{
 "cells": [
  {
   "cell_type": "code",
   "execution_count": 53,
   "metadata": {},
   "outputs": [],
   "source": [
    "from pymatgen import MPRester\n",
    "from pymatgen import Structure\n",
    "with MPRester(\"dnNf3TZDVumSw1eQ\") as m:\n",
    "\n",
    "    # Structure for material id\n",
    "    structure = m.get_structure_by_material_id(\"mp-661\")\n",
    "\n",
    "    # Dos for material id\n",
    "    dos = m.get_dos_by_material_id(\"mp-661\")\n",
    "\n",
    "    # Bandstructure for material id\n",
    "    bandstructure = m.get_bandstructure_by_material_id(\"mp-661\")\n",
    "    \n",
    "    entry = mpr.query({\"material_id\": \"mp-661\"}, [\"material_id\", \"cif\"])"
   ]
  },
  {
   "cell_type": "code",
   "execution_count": 54,
   "metadata": {},
   "outputs": [
    {
     "data": {
      "text/plain": [
       "Structure Summary\n",
       "Lattice\n",
       "    abc : 3.12858812 3.128588120088163 5.01695523\n",
       " angles : 90.0 90.0 119.99999999906781\n",
       " volume : 42.52728336284192\n",
       "      A : 3.12858812 0.0 0.0\n",
       "      B : -1.56429406 2.70943679 0.0\n",
       "      C : 0.0 0.0 5.01695523\n",
       "PeriodicSite: N (1.5643, 0.9031, 4.4185) [0.6667, 0.3333, 0.8807]\n",
       "PeriodicSite: N (-0.0000, 1.8063, 1.9100) [0.3333, 0.6667, 0.3807]\n",
       "PeriodicSite: Al (1.5643, 0.9031, 2.5049) [0.6667, 0.3333, 0.4993]\n",
       "PeriodicSite: Al (-0.0000, 1.8063, 5.0134) [0.3333, 0.6667, 0.9993]"
      ]
     },
     "execution_count": 54,
     "metadata": {},
     "output_type": "execute_result"
    }
   ],
   "source": [
    "structure"
   ]
  },
  {
   "cell_type": "code",
   "execution_count": 55,
   "metadata": {},
   "outputs": [
    {
     "data": {
      "text/plain": [
       "[{'material_id': 'mp-661',\n",
       "  'cif': \"# generated using pymatgen\\ndata_AlN\\n_symmetry_space_group_name_H-M   'P 1'\\n_cell_length_a   3.12858812\\n_cell_length_b   3.12858812\\n_cell_length_c   5.01695523\\n_cell_angle_alpha   90.00000000\\n_cell_angle_beta   90.00000000\\n_cell_angle_gamma   120.00000000\\n_symmetry_Int_Tables_number   1\\n_chemical_formula_structural   AlN\\n_chemical_formula_sum   'Al2 N2'\\n_cell_volume   42.52728336\\n_cell_formula_units_Z   2\\nloop_\\n _symmetry_equiv_pos_site_id\\n _symmetry_equiv_pos_as_xyz\\n  1  'x, y, z'\\nloop_\\n _atom_site_type_symbol\\n _atom_site_label\\n _atom_site_symmetry_multiplicity\\n _atom_site_fract_x\\n _atom_site_fract_y\\n _atom_site_fract_z\\n _atom_site_occupancy\\n  N  N0  1  0.666667  0.333333  0.880713  1\\n  N  N1  1  0.333333  0.666667  0.380713  1\\n  Al  Al2  1  0.666667  0.333333  0.499287  1\\n  Al  Al3  1  0.333333  0.666667  0.999287  1\\n\"}]"
      ]
     },
     "execution_count": 55,
     "metadata": {},
     "output_type": "execute_result"
    }
   ],
   "source": [
    "entry"
   ]
  },
  {
   "cell_type": "code",
   "execution_count": null,
   "metadata": {},
   "outputs": [],
   "source": []
  }
 ],
 "metadata": {
  "kernelspec": {
   "display_name": "Python 3",
   "language": "python",
   "name": "python3"
  },
  "language_info": {
   "codemirror_mode": {
    "name": "ipython",
    "version": 3
   },
   "file_extension": ".py",
   "mimetype": "text/x-python",
   "name": "python",
   "nbconvert_exporter": "python",
   "pygments_lexer": "ipython3",
   "version": "3.6.8"
  }
 },
 "nbformat": 4,
 "nbformat_minor": 2
}
