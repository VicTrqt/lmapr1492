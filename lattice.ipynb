{
 "cells": [
  {
   "cell_type": "code",
   "execution_count": 27,
   "metadata": {},
   "outputs": [],
   "source": [
    "from pymatgen import MPRester\n",
    "from pymatgen import Structure\n",
    "from pymatgen import symmetry\n",
    "with MPRester(\"dnNf3TZDVumSw1eQ\") as m:\n",
    "\n",
    "    # Structure for material id\n",
    "    structure = m.get_structure_by_material_id(\"mp-661\")"
   ]
  },
  {
   "cell_type": "code",
   "execution_count": 28,
   "metadata": {},
   "outputs": [
    {
     "name": "stdout",
     "output_type": "stream",
     "text": [
      "Full Formula (Al2 N2)\n",
      "Reduced Formula: AlN\n",
      "abc   :   3.128588   3.128588   5.016955\n",
      "angles:  90.000000  90.000000 120.000000\n",
      "Sites (4)\n",
      "  #  SP           a         b         c    magmom\n",
      "---  ----  --------  --------  --------  --------\n",
      "  0  N     0.666667  0.333333  0.880713         0\n",
      "  1  N     0.333333  0.666667  0.380713         0\n",
      "  2  Al    0.666667  0.333333  0.499287         0\n",
      "  3  Al    0.333333  0.666667  0.999287         0\n"
     ]
    }
   ],
   "source": [
    "print(structure)"
   ]
  },
  {
   "cell_type": "code",
   "execution_count": 29,
   "metadata": {},
   "outputs": [],
   "source": [
    "from pymatgen import Lattice, Molecule"
   ]
  },
  {
   "cell_type": "code",
   "execution_count": 30,
   "metadata": {},
   "outputs": [],
   "source": [
    "from pymatgen.symmetry.analyzer import SpacegroupAnalyzer"
   ]
  },
  {
   "cell_type": "code",
   "execution_count": 31,
   "metadata": {},
   "outputs": [],
   "source": [
    "spa = SpacegroupAnalyzer(structure)"
   ]
  },
  {
   "cell_type": "code",
   "execution_count": 32,
   "metadata": {},
   "outputs": [
    {
     "data": {
      "text/plain": [
       "'hexagonal'"
      ]
     },
     "execution_count": 32,
     "metadata": {},
     "output_type": "execute_result"
    }
   ],
   "source": [
    "spa.get_crystal_system()"
   ]
  },
  {
   "cell_type": "code",
   "execution_count": 33,
   "metadata": {},
   "outputs": [
    {
     "data": {
      "text/plain": [
       "'hexagonal'"
      ]
     },
     "execution_count": 33,
     "metadata": {},
     "output_type": "execute_result"
    }
   ],
   "source": [
    "spa.get_lattice_type()"
   ]
  },
  {
   "cell_type": "code",
   "execution_count": 34,
   "metadata": {},
   "outputs": [
    {
     "data": {
      "text/plain": [
       "'6mm'"
      ]
     },
     "execution_count": 34,
     "metadata": {},
     "output_type": "execute_result"
    }
   ],
   "source": [
    "spa.get_point_group_symbol()"
   ]
  },
  {
   "cell_type": "code",
   "execution_count": 35,
   "metadata": {},
   "outputs": [
    {
     "data": {
      "text/plain": [
       "Structure Summary\n",
       "Lattice\n",
       "    abc : 3.1285881200440815 3.1285881200440815 5.01695523\n",
       " angles : 90.0 90.0 119.99999999999999\n",
       " volume : 42.52728336244245\n",
       "      A : 1.5642940600220407 -2.7094367899363734 0.0\n",
       "      B : 1.5642940600220407 2.7094367899363734 0.0\n",
       "      C : 0.0 0.0 5.01695523\n",
       "PeriodicSite: Al (1.5643, -0.9031, 2.5049) [0.6667, 0.3333, 0.4993]\n",
       "PeriodicSite: Al (1.5643, 0.9031, 5.0134) [0.3333, 0.6667, 0.9993]\n",
       "PeriodicSite: N (1.5643, -0.9031, 4.4185) [0.6667, 0.3333, 0.8807]\n",
       "PeriodicSite: N (1.5643, 0.9031, 1.9100) [0.3333, 0.6667, 0.3807]"
      ]
     },
     "execution_count": 35,
     "metadata": {},
     "output_type": "execute_result"
    }
   ],
   "source": [
    "spa.get_primitive_standard_structure()"
   ]
  },
  {
   "cell_type": "code",
   "execution_count": 36,
   "metadata": {},
   "outputs": [
    {
     "data": {
      "text/plain": [
       "('P6_3mc', 186)"
      ]
     },
     "execution_count": 36,
     "metadata": {},
     "output_type": "execute_result"
    }
   ],
   "source": [
    "structure.get_space_group_info()"
   ]
  },
  {
   "cell_type": "code",
   "execution_count": 37,
   "metadata": {},
   "outputs": [
    {
     "name": "stdout",
     "output_type": "stream",
     "text": [
      "3.128588 0.000000 0.000000\n",
      "-1.564294 2.709437 0.000000\n",
      "0.000000 0.000000 5.016955\n"
     ]
    }
   ],
   "source": [
    "#vecteurs de base du réseau direct \n",
    "lat = structure.lattice\n",
    "print(lat)"
   ]
  },
  {
   "cell_type": "code",
   "execution_count": 38,
   "metadata": {},
   "outputs": [
    {
     "name": "stdout",
     "output_type": "stream",
     "text": [
      "0.319633 0.184540 0.000000\n",
      "0.000000 0.369080 0.000000\n",
      "0.000000 0.000000 0.199324\n"
     ]
    }
   ],
   "source": [
    "#vecteurs de base du réseau réciproque sans la convention 2pi vue en classe\n",
    "rec_lat_cryst = lat.reciprocal_lattice_crystallographic\n",
    "print(rec_lat_cryst)"
   ]
  },
  {
   "cell_type": "code",
   "execution_count": 39,
   "metadata": {},
   "outputs": [
    {
     "name": "stdout",
     "output_type": "stream",
     "text": [
      "2.008313 1.159500 0.000000\n",
      "0.000000 2.319001 0.000000\n",
      "0.000000 0.000000 1.252390\n"
     ]
    }
   ],
   "source": [
    "#vecteurs de base du réseau réciproque avec la convention 2pi vue en classe\n",
    "rec_lat = lat.reciprocal_lattice\n",
    "print(rec_lat)"
   ]
  },
  {
   "cell_type": "code",
   "execution_count": 40,
   "metadata": {},
   "outputs": [
    {
     "name": "stdout",
     "output_type": "stream",
     "text": [
      "(3.12858812, 3.128588120088163, 5.01695523, 90.0, 90.0, 119.99999999906781)\n"
     ]
    }
   ],
   "source": [
    "#normes des vecteurs de base et valeurs des angles correspondants : a b c alpha beta gamma\n",
    "param_lat = lat.parameters\n",
    "print(param_lat)"
   ]
  },
  {
   "cell_type": "code",
   "execution_count": null,
   "metadata": {},
   "outputs": [],
   "source": []
  }
 ],
 "metadata": {
  "kernelspec": {
   "display_name": "Python 3",
   "language": "python",
   "name": "python3"
  },
  "language_info": {
   "codemirror_mode": {
    "name": "ipython",
    "version": 3
   },
   "file_extension": ".py",
   "mimetype": "text/x-python",
   "name": "python",
   "nbconvert_exporter": "python",
   "pygments_lexer": "ipython3",
   "version": "3.6.8"
  }
 },
 "nbformat": 4,
 "nbformat_minor": 2
}
