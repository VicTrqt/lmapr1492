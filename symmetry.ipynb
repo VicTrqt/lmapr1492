{
 "cells": [
  {
   "cell_type": "code",
   "execution_count": 1,
   "metadata": {},
   "outputs": [],
   "source": [
    "from pymatgen import MPRester\n",
    "from pymatgen import Structure\n",
    "from pymatgen import symmetry\n",
    "with MPRester(\"dnNf3TZDVumSw1eQ\") as m:\n",
    "\n",
    "    # Structure for material id\n",
    "    structure = m.get_structure_by_material_id(\"mp-661\")"
   ]
  },
  {
   "cell_type": "code",
   "execution_count": 2,
   "metadata": {},
   "outputs": [
    {
     "data": {
      "text/plain": [
       "[PeriodicSite: N (1.5643, 0.9031, 4.4185) [0.6667, 0.3333, 0.8807],\n",
       " PeriodicSite: N (-0.0000, 1.8063, 1.9100) [0.3333, 0.6667, 0.3807],\n",
       " PeriodicSite: Al (1.5643, 0.9031, 2.5049) [0.6667, 0.3333, 0.4993],\n",
       " PeriodicSite: Al (-0.0000, 1.8063, 5.0134) [0.3333, 0.6667, 0.9993]]"
      ]
     },
     "execution_count": 2,
     "metadata": {},
     "output_type": "execute_result"
    }
   ],
   "source": [
    "sites_atom=structure.sites\n",
    "sites_atom"
   ]
  },
  {
   "cell_type": "code",
   "execution_count": 3,
   "metadata": {},
   "outputs": [],
   "source": [
    "from pymatgen.symmetry.analyzer import SpacegroupAnalyzer"
   ]
  },
  {
   "cell_type": "code",
   "execution_count": 4,
   "metadata": {},
   "outputs": [],
   "source": [
    "spa = SpacegroupAnalyzer(structure)"
   ]
  },
  {
   "cell_type": "code",
   "execution_count": 5,
   "metadata": {},
   "outputs": [],
   "source": [
    "sym_ops_frac=spa.get_symmetry_operations() #notation fractional\n",
    "sym_ops_cart=spa.get_symmetry_operations(True) #notation cartesienne"
   ]
  },
  {
   "cell_type": "code",
   "execution_count": 6,
   "metadata": {},
   "outputs": [
    {
     "name": "stdout",
     "output_type": "stream",
     "text": [
      "Equation en coordonnees cartesiennes : \n",
      "\n",
      "[[ 0.5       -0.8660254  0.       ]\n",
      " [ 0.8660254  0.5        0.       ]\n",
      " [ 0.         0.         1.       ]] [1.56429408 0.90314559 4.41849644] + [0.         0.         2.50847761] \n",
      " = [1.56429406e-08 1.80629120e+00 6.92697405e+00] \n",
      "\n",
      "Equation en coordonnees fractionnelles (attention quand >1, utiliser la periodicite) : \n",
      "\n",
      "[[ 1. -1.  0.]\n",
      " [ 1.  0.  0.]\n",
      " [ 0.  0.  1.]] [0.66666667 0.33333333 0.88071275] + [0.  0.  0.5] \n",
      " = [0.33333334 0.66666667 1.38071275] \n",
      "\n"
     ]
    }
   ],
   "source": [
    "#1er element de symetrie : 6-fold screw axis (x-y,x,z+0.5)->notation fractionnelle\n",
    "#Appliqué sur le N superieur dans la maille\n",
    "N1_coord_cart=sites_atom[0].coords\n",
    "op1_cart=sym_ops_cart[1]\n",
    "result1_cart=op1_cart.operate(N1_coord_cart)\n",
    "\n",
    "print('Equation en coordonnees cartesiennes : \\n')\n",
    "print(op1_cart.affine_matrix[0:3,0:3], N1_coord_cart, '+', op1_cart.affine_matrix[0:3,3], '\\n', '=', result1_cart, '\\n')\n",
    "\n",
    "N1_coord_frac=sites_atom[0].frac_coords\n",
    "op1_frac=sym_ops_frac[1]\n",
    "result1_frac=op1_frac.operate(N1_coord_frac)\n",
    "\n",
    "print('Equation en coordonnees fractionnelles (attention quand >1, utiliser la periodicite) : \\n')\n",
    "print(op1_frac.affine_matrix[0:3,0:3], N1_coord_frac, '+', op1_frac.affine_matrix[0:3,3], '\\n', '=', result1_frac, '\\n')\n"
   ]
  },
  {
   "cell_type": "markdown",
   "metadata": {},
   "source": [
    "<img src=\"1ere_op.jpg\" style=\"width:700px;height:700px\"/>"
   ]
  },
  {
   "cell_type": "code",
   "execution_count": 7,
   "metadata": {},
   "outputs": [
    {
     "name": "stdout",
     "output_type": "stream",
     "text": [
      "Equation en coordonnees cartesiennes : \n",
      "\n",
      "[[-0.5       -0.8660254  0.       ]\n",
      " [ 0.8660254 -0.5        0.       ]\n",
      " [ 0.         0.         1.       ]] [1.56429408 0.90314559 2.50490178] + [0. 0. 0.] \n",
      " = [-1.56429406  0.90314561  2.50490178] \n",
      "\n",
      "Equation en coordonnees fractionnelles (attention quand >1, utiliser la periodicite) : \n",
      "\n",
      "[[ 0. -1.  0.]\n",
      " [ 1. -1.  0.]\n",
      " [ 0.  0.  1.]] [0.66666667 0.33333333 0.49928725] + [0. 0. 0.] \n",
      " = [-0.33333333  0.33333334  0.49928725] \n",
      "\n"
     ]
    }
   ],
   "source": [
    "#2eme element de symetrie : C3 axis (-y,x-y,z)->notation fractionnelle\n",
    "#Appliqué sur le Al au milieu dans la maille\n",
    "Al1_coord_cart=sites_atom[2].coords\n",
    "op2_cart=sym_ops_cart[2]\n",
    "result2_cart=op2_cart.operate(Al1_coord_cart)\n",
    "\n",
    "print('Equation en coordonnees cartesiennes : \\n')\n",
    "print(op2_cart.affine_matrix[0:3,0:3], Al1_coord_cart, '+', op2_cart.affine_matrix[0:3,3], '\\n', '=', result2_cart, '\\n')\n",
    "\n",
    "Al1_coord_frac=sites_atom[2].frac_coords\n",
    "op2_frac=sym_ops_frac[2]\n",
    "result2_frac=op2_frac.operate(Al1_coord_frac)\n",
    "\n",
    "print('Equation en coordonnees fractionnelles (attention quand >1, utiliser la periodicite) : \\n')\n",
    "print(op2_frac.affine_matrix[0:3,0:3], Al1_coord_frac, '+', op2_frac.affine_matrix[0:3,3], '\\n', '=', result2_frac, '\\n')"
   ]
  },
  {
   "cell_type": "markdown",
   "metadata": {},
   "source": [
    "<img src=\"2eme_op.jpg\" style=\"width:700px;height:700px\"/>"
   ]
  },
  {
   "cell_type": "code",
   "execution_count": 8,
   "metadata": {},
   "outputs": [
    {
     "name": "stdout",
     "output_type": "stream",
     "text": [
      "Equation en coordonnees cartesiennes : \n",
      "\n",
      "[[-1.  0.  0.]\n",
      " [ 0. -1.  0.]\n",
      " [ 0.  0.  1.]] [-1.56429407e-08  1.80629120e+00  1.91001882e+00] + [0.         0.         2.50847761] \n",
      " = [ 1.56429407e-08 -1.80629120e+00  4.41849644e+00] \n",
      "\n",
      "Equation en coordonnees fractionnelles (attention quand >1, utiliser la periodicite) : \n",
      "\n",
      "[[-1.  0.  0.]\n",
      " [ 0. -1.  0.]\n",
      " [ 0.  0.  1.]] [0.33333333 0.66666667 0.38071275] + [0.  0.  0.5] \n",
      " = [-0.33333333 -0.66666667  0.88071275] \n",
      "\n"
     ]
    }
   ],
   "source": [
    "#3eme element de symetrie : 2-fold screw axis (-x,-y,z+0.5)->notation fractionnelle\n",
    "#Appliqué sur le N inferieur dans la maille\n",
    "N2_coord_cart=sites_atom[1].coords\n",
    "op3_cart=sym_ops_cart[3]\n",
    "result3_cart=op3_cart.operate(N2_coord_cart)\n",
    "\n",
    "print('Equation en coordonnees cartesiennes : \\n')\n",
    "print(op3_cart.affine_matrix[0:3,0:3], N2_coord_cart, '+', op3_cart.affine_matrix[0:3,3], '\\n', '=', result3_cart, '\\n')\n",
    "\n",
    "N2_coord_frac=sites_atom[1].frac_coords\n",
    "op3_frac=sym_ops_frac[3]\n",
    "result3_frac=op3_frac.operate(N2_coord_frac)\n",
    "\n",
    "print('Equation en coordonnees fractionnelles (attention quand >1, utiliser la periodicite) : \\n')\n",
    "print(op3_frac.affine_matrix[0:3,0:3], N2_coord_frac, '+', op3_frac.affine_matrix[0:3,3], '\\n', '=', result3_frac, '\\n')"
   ]
  },
  {
   "cell_type": "markdown",
   "metadata": {},
   "source": [
    "<img src=\"3eme_op.jpg\" style=\"width:700px;height:700px\"/>"
   ]
  },
  {
   "cell_type": "code",
   "execution_count": null,
   "metadata": {},
   "outputs": [],
   "source": []
  }
 ],
 "metadata": {
  "kernelspec": {
   "display_name": "Python 3",
   "language": "python",
   "name": "python3"
  },
  "language_info": {
   "codemirror_mode": {
    "name": "ipython",
    "version": 3
   },
   "file_extension": ".py",
   "mimetype": "text/x-python",
   "name": "python",
   "nbconvert_exporter": "python",
   "pygments_lexer": "ipython3",
   "version": "3.6.8"
  }
 },
 "nbformat": 4,
 "nbformat_minor": 2
}
