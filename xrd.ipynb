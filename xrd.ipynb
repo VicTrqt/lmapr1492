{
 "cells": [
  {
   "cell_type": "code",
   "execution_count": 2,
   "metadata": {},
   "outputs": [],
   "source": [
    "from pymatgen import MPRester\n",
    "from pymatgen import Structure\n",
    "from pymatgen import symmetry\n",
    "import numpy as np\n",
    "with MPRester(\"dnNf3TZDVumSw1eQ\") as m:\n",
    "\n",
    "    # Structure for material id\n",
    "    structure = m.get_structure_by_material_id(\"mp-661\")"
   ]
  },
  {
   "cell_type": "code",
   "execution_count": 3,
   "metadata": {},
   "outputs": [],
   "source": [
    "from pymatgen.analysis.diffraction.xrd import XRDCalculator"
   ]
  },
  {
   "cell_type": "code",
   "execution_count": 4,
   "metadata": {},
   "outputs": [],
   "source": [
    "xrd=XRDCalculator('CuKa1') #longueur d onde arrondie dans l énoncé à priori"
   ]
  },
  {
   "cell_type": "code",
   "execution_count": 5,
   "metadata": {},
   "outputs": [],
   "source": [
    "pattern=xrd.get_pattern(structure)"
   ]
  },
  {
   "cell_type": "code",
   "execution_count": 6,
   "metadata": {},
   "outputs": [
    {
     "data": {
      "text/plain": [
       "[[{'hkl': (1, 0, -1, 0), 'multiplicity': 6}],\n",
       " [{'hkl': (0, 0, 0, 2), 'multiplicity': 2}],\n",
       " [{'hkl': (1, 0, -1, 1), 'multiplicity': 12}],\n",
       " [{'hkl': (1, 0, -1, 2), 'multiplicity': 12}],\n",
       " [{'hkl': (2, -1, -1, 0), 'multiplicity': 6}],\n",
       " [{'hkl': (1, 0, -1, 3), 'multiplicity': 12}],\n",
       " [{'hkl': (2, 0, -2, 0), 'multiplicity': 6}],\n",
       " [{'hkl': (2, -1, -1, 2), 'multiplicity': 12}],\n",
       " [{'hkl': (2, 0, -2, 1), 'multiplicity': 12}],\n",
       " [{'hkl': (0, 0, 0, 4), 'multiplicity': 2}],\n",
       " [{'hkl': (2, 0, -2, 2), 'multiplicity': 12}],\n",
       " [{'hkl': (1, 0, -1, 4), 'multiplicity': 12}]]"
      ]
     },
     "execution_count": 6,
     "metadata": {},
     "output_type": "execute_result"
    }
   ],
   "source": [
    "pattern.hkls #donne la direction des différents pics ainsi que leur multiplicité"
   ]
  },
  {
   "cell_type": "code",
   "execution_count": 7,
   "metadata": {},
   "outputs": [
    {
     "name": "stdout",
     "output_type": "stream",
     "text": [
      "[33.03345339 35.76557238 37.7016225  49.47591894 58.99871646 65.54134292\n",
      " 69.30398983 70.94519402 72.16580521 75.77912133 80.5129395  85.18072548]\n"
     ]
    }
   ],
   "source": [
    "pat=pattern.x #donne les angles 2*theta liés aux pics de diffraction\n",
    "print(pat)"
   ]
  },
  {
   "cell_type": "code",
   "execution_count": 8,
   "metadata": {},
   "outputs": [
    {
     "name": "stdout",
     "output_type": "stream",
     "text": [
      "Angle 2 theta : \n",
      "33.03345338605786\n",
      "Indices de Bravais-Miller hkil : \n",
      "(1, 0, -1, 0)\n",
      "Indices de Miller hkl : \n",
      "[1 0 0]\n"
     ]
    }
   ],
   "source": [
    "#1er pic du diffractogramme\n",
    "print('Angle 2 theta : ')\n",
    "print(pat[0])\n",
    "print('Indices de Bravais-Miller hkil : ') #l'indice i est redondant et permet juste de faire apparaitre plus facilement des symétries de permutation\n",
    "print(pattern.hkls[0][0]['hkl'][:])\n",
    "print('Indices de Miller hkl : ')\n",
    "print(np.delete(pattern.hkls[0][0]['hkl'], 2))"
   ]
  },
  {
   "cell_type": "code",
   "execution_count": 9,
   "metadata": {},
   "outputs": [
    {
     "name": "stdout",
     "output_type": "stream",
     "text": [
      "Angle 2 theta : \n",
      "35.765572375753536\n",
      "Indices de Bravais-Miller hkil : \n",
      "(0, 0, 0, 2)\n",
      "Indices de Miller hkl : \n",
      "[0 0 2]\n"
     ]
    }
   ],
   "source": [
    "#2eme pic du diffractogramme\n",
    "print('Angle 2 theta : ')\n",
    "print(pat[1])\n",
    "print('Indices de Bravais-Miller hkil : ')\n",
    "print(pattern.hkls[1][0]['hkl'][:])\n",
    "print('Indices de Miller hkl : ')\n",
    "print(np.delete(pattern.hkls[1][0]['hkl'], 2))"
   ]
  },
  {
   "cell_type": "code",
   "execution_count": 10,
   "metadata": {},
   "outputs": [
    {
     "name": "stdout",
     "output_type": "stream",
     "text": [
      "Angle 2 theta : \n",
      "37.70162249707943\n",
      "Indices de Bravais-Miller hkil : \n",
      "(1, 0, -1, 1)\n",
      "Indices de Miller hkl : \n",
      "[1 0 1]\n"
     ]
    }
   ],
   "source": [
    "#3eme pic du diffractogramme\n",
    "print('Angle 2 theta : ')\n",
    "print(pat[2])\n",
    "print('Indices de Bravais-Miller hkil : ')\n",
    "print(pattern.hkls[2][0]['hkl'][:])\n",
    "print('Indices de Miller hkl : ')\n",
    "print(np.delete(pattern.hkls[2][0]['hkl'], 2))"
   ]
  },
  {
   "cell_type": "code",
   "execution_count": 11,
   "metadata": {},
   "outputs": [
    {
     "data": {
      "text/plain": [
       "<Figure size 1600x1000 with 1 Axes>"
      ]
     },
     "metadata": {},
     "output_type": "display_data"
    }
   ],
   "source": [
    "xrd.show_plot(structure)"
   ]
  },
  {
   "cell_type": "code",
   "execution_count": null,
   "metadata": {},
   "outputs": [],
   "source": []
  }
 ],
 "metadata": {
  "kernelspec": {
   "display_name": "Python 3",
   "language": "python",
   "name": "python3"
  },
  "language_info": {
   "codemirror_mode": {
    "name": "ipython",
    "version": 3
   },
   "file_extension": ".py",
   "mimetype": "text/x-python",
   "name": "python",
   "nbconvert_exporter": "python",
   "pygments_lexer": "ipython3",
   "version": "3.6.8"
  }
 },
 "nbformat": 4,
 "nbformat_minor": 2
}
